{
 "cells": [
  {
   "cell_type": "code",
   "execution_count": null,
   "id": "392dd34b-222d-48cd-85a8-a30c29a66b0a",
   "metadata": {},
   "outputs": [],
   "source": [
    "from visualizer import visualize_pipeline\n",
    "\n",
    "visualize_pipeline('/home/jovyan/work/steps_folder/*')"
   ]
  }
 ],
 "metadata": {
  "kernelspec": {
   "display_name": "Python 3 (ipykernel)",
   "language": "python",
   "name": "python3"
  },
  "language_info": {
   "codemirror_mode": {
    "name": "ipython",
    "version": 3
   },
   "file_extension": ".py",
   "mimetype": "text/x-python",
   "name": "python",
   "nbconvert_exporter": "python",
   "pygments_lexer": "ipython3",
   "version": "3.10.9"
  }
 },
 "nbformat": 4,
 "nbformat_minor": 5
}
